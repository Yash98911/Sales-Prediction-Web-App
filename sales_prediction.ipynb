{
 "cells": [
  {
   "cell_type": "markdown",
   "id": "33b1e2b9-e603-40a7-bf0b-901e96965451",
   "metadata": {},
   "source": [
    "## Sales Prediction Notebook\n",
    "\n",
    "This notebook demonstrates a machine learning workflow to predict product sales based on advertising spending on TV, radio, and newspapers.\n",
    "The process includes data loading, exploratory data analysis, data cleaning, model training, and evaluation."
   ]
  },
  {
   "cell_type": "code",
   "execution_count": null,
   "id": "b27902a5-f482-4ff4-ad82-cd444bcaedc9",
   "metadata": {},
   "outputs": [],
   "source": [
    "import numpy as np\n",
    "import pandas as pd \n",
    "import matplotlib.pyplot as plt\n",
    "import seaborn as sns\n",
    "from sklearn.model_selection import train_test_split\n",
    "from sklearn.linear_model import LinearRegression\n",
    "from sklearn.metrics import mean_squared_error, mean_absolute_error, r2_score\n",
    "import joblib"
   ]
  },
  {
   "cell_type": "markdown",
   "id": "f9565da6-f15f-4a79-b08b-06e03b739fa9",
   "metadata": {},
   "source": [
    "## Importing Libraries\n",
    "\n",
    "Here, we import the necessary libraries for data manipulation, analysis, and visualization. We also import specific functions for model evaluation."
   ]
  },
  {
   "cell_type": "code",
   "execution_count": null,
   "id": "ebfcf3b7-e20f-4c42-aad8-c909078251f0",
   "metadata": {},
   "outputs": [],
   "source": [
    "df = pd.read_csv(r\"Advertising.csv\")\n",
    "df.head()"
   ]
  },
  {
   "cell_type": "markdown",
   "id": "1b443fa1-1416-416f-bca4-f6762c88aa59",
   "metadata": {},
   "source": [
    "## Exploratory Data Analysis\n",
    "\n",
    "In this section, we load the dataset and perform an initial analysis to understand its structure, size, and statistical properties."
   ]
  },
  {
   "cell_type": "code",
   "execution_count": null,
   "id": "22b36f6d-c22e-4cca-9a90-f330a809b275",
   "metadata": {},
   "outputs": [],
   "source": [
    "print(\"Shape of Dataset:\")\n",
    "df.shape"
   ]
  },
  {
   "cell_type": "code",
   "execution_count": null,
   "id": "99ad67d3-d0ba-445e-8e3b-e2878662534e",
   "metadata": {},
   "outputs": [],
   "source": [
    "print(\"Info of Dataset: \")\n",
    "\n",
    "df.info()"
   ]
  },
  {
   "cell_type": "code",
   "execution_count": null,
   "id": "216f2e2c-0a14-4f8a-855f-e29815b16550",
   "metadata": {},
   "outputs": [],
   "source": [
    "print(\"Stastical analys of numerical columns: \\n\")\n",
    "df.describe()"
   ]
  },
  {
   "cell_type": "code",
   "execution_count": null,
   "id": "aa5c9b22-0b6a-4de8-a971-55955cf150e1",
   "metadata": {},
   "outputs": [],
   "source": [
    "print(\"Duplicated rows: \")\n",
    "df.duplicated().sum()"
   ]
  },
  {
   "cell_type": "code",
   "execution_count": null,
   "id": "9e8bdf9c-7dca-437b-b30b-c94f13def775",
   "metadata": {},
   "outputs": [],
   "source": [
    "print(\"Null values across each columns\\n\")\n",
    "df.isnull().sum()"
   ]
  },
  {
   "cell_type": "markdown",
   "id": "338af531-6257-4d06-94d8-e90dc8a73be9",
   "metadata": {},
   "source": [
    "## Data Cleaning and Preprocessing\n",
    "\n",
    "The dataset contains an 'Unnamed: 0' column which is a row index and not useful for our analysis. We will drop this column to prepare the data for modeling. We also check for duplicate values to ensure data integrity."
   ]
  },
  {
   "cell_type": "code",
   "execution_count": null,
   "id": "1b31c067-d21b-4a10-ac40-ee2551d384c9",
   "metadata": {},
   "outputs": [],
   "source": [
    "df = df.drop(columns = [\"Unnamed: 0\"],axis = 1) #un-necessary column"
   ]
  },
  {
   "cell_type": "code",
   "execution_count": null,
   "id": "4304fb18-728e-47bd-892c-27bb2f271223",
   "metadata": {},
   "outputs": [],
   "source": [
    "df.head()"
   ]
  },
  {
   "cell_type": "code",
   "execution_count": null,
   "id": "e99d2b2b-af66-46c0-a47c-010891a4066f",
   "metadata": {},
   "outputs": [],
   "source": [
    "num_df = df.select_dtypes(include = [\"float64\"])  #producing a dataframe having float values\n",
    "corr_matrix = num_df.corr()\n",
    "sns.heatmap(corr_matrix, annot = True)\n",
    "plt.title(\"Linear Relationship with Sales\",color=\"purple\",fontsize=15)\n",
    "plt.show()"
   ]
  },
  {
   "cell_type": "code",
   "execution_count": null,
   "id": "fd7d9c3f-3613-453f-a185-584b8526c17c",
   "metadata": {},
   "outputs": [],
   "source": [
    "num_cols = num_df.columns\n",
    "num_cols\n",
    "\n",
    "for col in num_cols:\n",
    "    plt.subplot(1,2,1)\n",
    "    sns.histplot(df[col],bins=5,kde=True)\n",
    "    plt.title(\"Distribution Plot\",color=\"purple\",fontsize = 12)\n",
    "\n",
    "    plt.subplot(1,2,2)\n",
    "    sns.boxplot(df[col])\n",
    "    plt.title(\"Outliers Visualization\",color=\"purple\",fontsize=12)\n",
    "\n",
    "    plt.tight_layout()\n",
    "    plt.show()"
   ]
  },
  {
   "cell_type": "code",
   "execution_count": null,
   "id": "0f3a9014-9911-4e21-948b-55b85e340421",
   "metadata": {},
   "outputs": [],
   "source": [
    "sns.pairplot(num_df) \n",
    "plt.show()"
   ]
  },
  {
   "cell_type": "code",
   "execution_count": null,
   "id": "811e6d91-c781-4764-bac1-a52250f2d2a5",
   "metadata": {},
   "outputs": [],
   "source": [
    "df = df.drop([\"Newspaper\"], axis =1) #it has no significant effect on sale "
   ]
  },
  {
   "cell_type": "code",
   "execution_count": null,
   "id": "3513b936-77ad-4a01-8f34-2d9fb73aad28",
   "metadata": {},
   "outputs": [],
   "source": [
    "df[\"tv_radio_interaction\"] = df[\"TV\"]*df[\"Radio\"] #creating a new features, both has too good effect on sales"
   ]
  },
  {
   "cell_type": "code",
   "execution_count": null,
   "id": "541ade4e-53e1-4cfe-8e05-523feb02e103",
   "metadata": {},
   "outputs": [],
   "source": [
    "x = df.drop([\"Sales\"],axis = 1)\n",
    "y = df[\"Sales\"]"
   ]
  },
  {
   "cell_type": "markdown",
   "id": "63823fb0-ca0b-4f08-8c0d-557b3c516aa1",
   "metadata": {},
   "source": [
    "## Model Training and Evaluation\n",
    "\n",
    "We will now train a linear regression model on the preprocessed data and evaluate its performance using key metrics such as Mean Squared Error (MSE), Mean Absolute Error (MAE), and R-squared."
   ]
  },
  {
   "cell_type": "code",
   "execution_count": null,
   "id": "1dbf7df3-b32a-4bf6-bd71-bce0966a5e72",
   "metadata": {},
   "outputs": [],
   "source": [
    "x_train, x_test, y_train, y_test = train_test_split(x,y,test_size = 0.2, random_state = 42)"
   ]
  },
  {
   "cell_type": "code",
   "execution_count": null,
   "id": "a481d9d7-00d5-4b13-bae9-0b2e248e2825",
   "metadata": {},
   "outputs": [],
   "source": [
    "x_train.shape, x_test.shape, y_train.shape, y_test.shape"
   ]
  },
  {
   "cell_type": "code",
   "execution_count": null,
   "id": "b59b243f-a1e3-45be-9fff-76a2d567f344",
   "metadata": {},
   "outputs": [],
   "source": [
    "lr = LinearRegression()\n",
    "lr.fit(x_train, y_train)"
   ]
  },
  {
   "cell_type": "code",
   "execution_count": null,
   "id": "da92aa4f-bd18-435e-bcc8-3f441baff143",
   "metadata": {},
   "outputs": [],
   "source": [
    "y_pred = lr.predict(x_test)"
   ]
  },
  {
   "cell_type": "code",
   "execution_count": null,
   "id": "704bbce9-18d4-41e6-b51a-fb6cd837601d",
   "metadata": {},
   "outputs": [],
   "source": [
    "lr.score(x_test, y_test)*100"
   ]
  },
  {
   "cell_type": "code",
   "execution_count": null,
   "id": "51f6118b-aacc-4824-94e2-61eda546e64c",
   "metadata": {},
   "outputs": [],
   "source": [
    "mse = mean_squared_error(y_test, y_pred)\n",
    "rmse = np.sqrt(mse)\n",
    "mae = mean_absolute_error(y_test, y_pred)\n",
    "r2 = r2_score(y_test, y_pred)*100"
   ]
  },
  {
   "cell_type": "code",
   "execution_count": null,
   "id": "a98f80cc-dd97-4b2b-8415-19ad918712d8",
   "metadata": {},
   "outputs": [],
   "source": [
    "print(\"Mse: \",mse)\n",
    "print(\"Mae: \",mae)\n",
    "print(\"R2_Score: \",r2)"
   ]
  },
  {
   "cell_type": "code",
   "execution_count": null,
   "id": "99c909c6-f032-4db5-bc21-2030c580cdce",
   "metadata": {},
   "outputs": [],
   "source": [
    "print(\"Coefficients: \",lr.coef_)\n",
    "print(\"Intercept: \",lr.intercept_)"
   ]
  },
  {
   "cell_type": "code",
   "execution_count": null,
   "id": "86d1604a-5100-4405-859c-8845ad100ac6",
   "metadata": {},
   "outputs": [],
   "source": [
    "# --- Plot 1: TV Advertising vs Sales ---\n",
    "plt.figure(figsize=(10, 6))\n",
    "plt.subplot(1,2,1)# Is plot ka size\n",
    "sns.regplot(x='TV', y='Sales', data=df,\n",
    "            scatter_kws={'alpha':0.6, 'color':'#2ecc71'}, # Greenish color\n",
    "            line_kws={'color':'#27ae60', 'linestyle':'-', 'linewidth':2})\n",
    "plt.title('TV Advertising Budget vs. Sales')\n",
    "plt.xlabel('TV Advertising Budget ($)')\n",
    "plt.ylabel('Sales ($)')\n",
    "plt.grid(True, linestyle='--', alpha=0.7)\n",
    "\n",
    "# --- Plot 2: Radio Advertising vs Sales ---\n",
    "plt.subplot(1,2,2) # Doosre plot ka size\n",
    "sns.regplot(x='Radio', y='Sales', data=df,\n",
    "            scatter_kws={'alpha':0.6, 'color':'#3498db'}, # Blue color\n",
    "            line_kws={'color':'#2980b9', 'linestyle':'-', 'linewidth':2})\n",
    "plt.title('Radio Advertising Budget vs. Sales')\n",
    "plt.xlabel('Radio Advertising Budget ($)')\n",
    "plt.ylabel('Sales ($)')\n",
    "plt.grid(True, linestyle='--', alpha=0.7)\n",
    "plt.show() # Doosra plot dikhao"
   ]
  },
  {
   "cell_type": "code",
   "execution_count": null,
   "id": "7b3b642a-d5ef-4d54-8b6b-232937e16782",
   "metadata": {},
   "outputs": [],
   "source": [
    "from sklearn.model_selection import cross_val_score\n",
    "\n",
    "scores = cross_val_score(lr,x , y, cv=5)\n",
    "\n",
    "print(\"Cross Validation Scores:\", scores)\n",
    "print(\"Average CV Score:\", scores.mean()*100)"
   ]
  },
  {
   "cell_type": "code",
   "execution_count": null,
   "id": "16f411f9-5f44-4f76-bc4f-0bbb97aa4d53",
   "metadata": {},
   "outputs": [],
   "source": [
    "import pickle\n",
    "\n",
    "# Assuming your trained model is named 'model'\n",
    "with open('sales_prediction_model.pkl', 'wb') as file:\n",
    "    pickle.dump(lr, file)"
   ]
  },
  {
   "cell_type": "code",
   "execution_count": null,
   "id": "114b2a6d-81c3-4511-b385-3fc088760972",
   "metadata": {},
   "outputs": [],
   "source": []
  }
 ],
 "metadata": {
  "kernelspec": {
   "display_name": "Python [conda env:base] *",
   "language": "python",
   "name": "conda-base-py"
  },
  "language_info": {
   "codemirror_mode": {
    "name": "ipython",
    "version": 3
   },
   "file_extension": ".py",
   "mimetype": "text/x-python",
   "name": "python",
   "nbconvert_exporter": "python",
   "pygments_lexer": "ipython3",
   "version": "3.12.7"
  }
 },
 "nbformat": 4,
 "nbformat_minor": 5
}
